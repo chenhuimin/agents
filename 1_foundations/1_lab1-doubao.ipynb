{
 "cells": [
  {
   "cell_type": "markdown",
   "metadata": {},
   "source": [
    "# Welcome to the start of your adventure in Agentic AI"
   ]
  },
  {
   "cell_type": "markdown",
   "metadata": {},
   "source": [
    "<table style=\"margin: 0; text-align: left; width:100%\">\n",
    "    <tr>\n",
    "        <td style=\"width: 150px; height: 150px; vertical-align: middle;\">\n",
    "            <img src=\"../assets/stop.png\" width=\"150\" height=\"150\" style=\"display: block;\" />\n",
    "        </td>\n",
    "        <td>\n",
    "            <h2 style=\"color:#ff7800;\">Are you ready for action??</h2>\n",
    "            <span style=\"color:#ff7800;\">Have you completed all the setup steps in the <a href=\"../setup/\">setup</a> folder?<br/>\n",
    "            Have you checked out the guides in the <a href=\"../guides/01_intro.ipynb\">guides</a> folder?<br/>\n",
    "            Well in that case, you're ready!!\n",
    "            </span>\n",
    "        </td>\n",
    "    </tr>\n",
    "</table>"
   ]
  },
  {
   "cell_type": "markdown",
   "metadata": {},
   "source": [
    "<table style=\"margin: 0; text-align: left; width:100%\">\n",
    "    <tr>\n",
    "        <td style=\"width: 150px; height: 150px; vertical-align: middle;\">\n",
    "            <img src=\"../assets/tools.png\" width=\"150\" height=\"150\" style=\"display: block;\" />\n",
    "        </td>\n",
    "        <td>\n",
    "            <h2 style=\"color:#00bfff;\">This code is a live resource - keep an eye out for my updates</h2>\n",
    "            <span style=\"color:#00bfff;\">I push updates regularly. As people ask questions or have problems, I add more examples and improve explanations. As a result, the code below might not be identical to the videos, as I've added more steps and better comments. Consider this like an interactive book that accompanies the lectures.<br/><br/>\n",
    "            I try to send emails regularly with important updates related to the course. You can find this in the 'Announcements' section of Udemy in the left sidebar. You can also choose to receive my emails via your Notification Settings in Udemy. I'm respectful of your inbox and always try to add value with my emails!\n",
    "            </span>\n",
    "        </td>\n",
    "    </tr>\n",
    "</table>"
   ]
  },
  {
   "cell_type": "markdown",
   "metadata": {},
   "source": [
    "### And please do remember to contact me if I can help\n",
    "\n",
    "And I love to connect: https://www.linkedin.com/in/eddonner/\n",
    "\n",
    "\n",
    "### New to Notebooks like this one? Head over to the guides folder!\n",
    "\n",
    "Just to check you've already added the Python and Jupyter extensions to Cursor, if not already installed:\n",
    "- Open extensions (View >> extensions)\n",
    "- Search for python, and when the results show, click on the ms-python one, and Install it if not already installed\n",
    "- Search for jupyter, and when the results show, click on the Microsoft one, and Install it if not already installed  \n",
    "Then View >> Explorer to bring back the File Explorer.\n",
    "\n",
    "And then:\n",
    "1. Click where it says \"Select Kernel\" near the top right, and select the option called `.venv (Python 3.12.9)` or similar, which should be the first choice or the most prominent choice. You may need to choose \"Python Environments\" first.\n",
    "2. Click in each \"cell\" below, starting with the cell immediately below this text, and press Shift+Enter to run\n",
    "3. Enjoy!\n",
    "\n",
    "After you click \"Select Kernel\", if there is no option like `.venv (Python 3.12.9)` then please do the following:  \n",
    "1. On Mac: From the Cursor menu, choose Settings >> VS Code Settings (NOTE: be sure to select `VSCode Settings` not `Cursor Settings`);  \n",
    "On Windows PC: From the File menu, choose Preferences >> VS Code Settings(NOTE: be sure to select `VSCode Settings` not `Cursor Settings`)  \n",
    "2. In the Settings search bar, type \"venv\"  \n",
    "3. In the field \"Path to folder with a list of Virtual Environments\" put the path to the project root, like C:\\Users\\username\\projects\\agents (on a Windows PC) or /Users/username/projects/agents (on Mac or Linux).  \n",
    "And then try again.\n",
    "\n",
    "Having problems with missing Python versions in that list? Have you ever used Anaconda before? It might be interferring. Quit Cursor, bring up a new command line, and make sure that your Anaconda environment is deactivated:    \n",
    "`conda deactivate`  \n",
    "And if you still have any problems with conda and python versions, it's possible that you will need to run this too:  \n",
    "`conda config --set auto_activate_base false`  \n",
    "and then from within the Agents directory, you should be able to run `uv python list` and see the Python 3.12 version."
   ]
  },
  {
   "cell_type": "code",
   "execution_count": 1,
   "metadata": {},
   "outputs": [],
   "source": [
    "# First let's do an import\n",
    "from dotenv import load_dotenv\n"
   ]
  },
  {
   "cell_type": "code",
   "execution_count": 2,
   "metadata": {},
   "outputs": [
    {
     "data": {
      "text/plain": [
       "True"
      ]
     },
     "execution_count": 2,
     "metadata": {},
     "output_type": "execute_result"
    }
   ],
   "source": [
    "# Next it's time to load the API keys into environment variables\n",
    "\n",
    "load_dotenv(override=True)"
   ]
  },
  {
   "cell_type": "code",
   "execution_count": 3,
   "metadata": {},
   "outputs": [
    {
     "name": "stdout",
     "output_type": "stream",
     "text": [
      "OpenAI API Key exists and begins 172101e9\n"
     ]
    }
   ],
   "source": [
    "# Check the keys\n",
    "\n",
    "import os\n",
    "api_key = os.getenv('ARK_API_KEY')\n",
    "\n",
    "if api_key:\n",
    "    print(f\"OpenAI API Key exists and begins {api_key[:8]}\")\n",
    "else:\n",
    "    print(\"OpenAI API Key not set - please head to the troubleshooting guide in the setup folder\")\n",
    "    \n"
   ]
  },
  {
   "cell_type": "code",
   "execution_count": 4,
   "metadata": {},
   "outputs": [],
   "source": [
    "# And now - the all important import statement\n",
    "# If you get an import error - head over to troubleshooting guide\n",
    "\n",
    "from openai import OpenAI"
   ]
  },
  {
   "cell_type": "code",
   "execution_count": 5,
   "metadata": {},
   "outputs": [],
   "source": [
    "# And now we'll create an instance of the OpenAI class\n",
    "# If you're not sure what it means to create an instance of a class - head over to the guides folder!\n",
    "# If you get a NameError - head over to the guides folder to learn about NameErrors\n",
    "\n",
    "openai = OpenAI(api_key=api_key, base_url=\"https://ark.cn-beijing.volces.com/api/v3\")"
   ]
  },
  {
   "cell_type": "code",
   "execution_count": 6,
   "metadata": {},
   "outputs": [],
   "source": [
    "# Create a list of messages in the familiar OpenAI format\n",
    "\n",
    "messages = [{\"role\": \"user\", \"content\": \"What is 2+2?\"}]"
   ]
  },
  {
   "cell_type": "code",
   "execution_count": 7,
   "metadata": {},
   "outputs": [
    {
     "name": "stdout",
     "output_type": "stream",
     "text": [
      "2 + 2 equals 4. This is a basic arithmetic operation in addition. When you combine two units with another two units, the total number of units is four. \n"
     ]
    }
   ],
   "source": [
    "# And now call it! Any problems, head to the troubleshooting guide\n",
    "# This uses GPT 4.1 nano, the incredibly cheap model\n",
    "\n",
    "response = openai.chat.completions.create(\n",
    "    model=\"doubao-1-5-pro-32k-250115\",\n",
    "    messages=messages\n",
    ")\n",
    "\n",
    "print(response.choices[0].message.content)\n"
   ]
  },
  {
   "cell_type": "code",
   "execution_count": 8,
   "metadata": {},
   "outputs": [],
   "source": [
    "# And now - let's ask for a question:\n",
    "\n",
    "question = \"Please propose a hard, challenging question to assess someone's IQ. Respond only with the question.\"\n",
    "messages = [{\"role\": \"user\", \"content\": question}]\n"
   ]
  },
  {
   "cell_type": "code",
   "execution_count": 9,
   "metadata": {},
   "outputs": [
    {
     "name": "stdout",
     "output_type": "stream",
     "text": [
      "In a fictional world, there are three types of beings: Truth - tellers who always tell the truth, Liars who always lie, and Alternators who alternate between telling the truth and lying. You meet three beings named A, B, and C. A says, \"I am an Alternator, B is a Liar.\" B says, \"A is a Truth - teller, C is an Alternator.\" C says, \"I am a Liar, A is not a Truth - teller.\" Determine what type of being each of A, B, and C is. \n"
     ]
    }
   ],
   "source": [
    "# ask it - this uses GPT 4.1 mini, still cheap but more powerful than nano\n",
    "\n",
    "response = openai.chat.completions.create(\n",
    "    model=\"doubao-1-5-pro-32k-250115\",\n",
    "    messages=messages\n",
    ")\n",
    "\n",
    "question = response.choices[0].message.content\n",
    "\n",
    "print(question)\n"
   ]
  },
  {
   "cell_type": "code",
   "execution_count": 10,
   "metadata": {},
   "outputs": [],
   "source": [
    "# form a new messages list\n",
    "messages = [{\"role\": \"user\", \"content\": question}]\n"
   ]
  },
  {
   "cell_type": "code",
   "execution_count": 11,
   "metadata": {},
   "outputs": [
    {
     "name": "stdout",
     "output_type": "stream",
     "text": [
      "Let's analyze the statements of each being one by one and consider different cases based on their possible types.\n",
      "\n",
      "### Case 1: Assume A is a Truth - teller\n",
      "If A is a Truth - teller, then A's statements must all be true. A says \"I am an Alternator, B is a Liar\". But a Truth - teller cannot say \"I am an Alternator\" because that would be a false statement. So, A is not a Truth - teller.\n",
      "\n",
      "### Case 2: Assume A is a Liar\n",
      "If A is a Liar, then the opposite of A's statements are true. A says \"I am an Alternator, B is a Liar\", so the truth is that A is not an Alternator (which is consistent with A being a Liar) and B is not a Liar.\n",
      "\n",
      "Now, let's look at B's statement. B says \"A is a Truth - teller, C is an Alternator\". Since we know A is a Liar, B's first statement is false. Since B is not a Liar, B must be an Alternator. So, B's statements alternate. Since the first statement is false, the second statement \"C is an Alternator\" must be true.\n",
      "\n",
      "Let's check C's statements. C says \"I am a Liar, A is not a Truth - teller\". Since C is an Alternator, if we assume the first statement \"I am a Liar\" is false (because an Alternator can't be a Liar), then the second statement \"A is not a Truth - teller\" must be true, which is consistent with our assumption that A is a Liar.\n",
      "\n",
      "### Case 3: Assume A is an Alternator\n",
      "If A is an Alternator, we need to consider two sub - cases for the order of truth and lies.\n",
      "- **Sub - case 1: A's first statement is true**\n",
      "If A's first statement \"I am an Alternator\" is true, then the second statement \"B is a Liar\" must be false, so B is not a Liar.\n",
      "    - If B is a Truth - teller, B says \"A is a Truth - teller, C is an Alternator\". But A is an Alternator, so B's first statement is false, which contradicts B being a Truth - teller.\n",
      "    - If B is an Alternator, we need to further analyze the consistency of subsequent statements, but it will lead to more complex contradictions.\n",
      "- **Sub - case 2: A's first statement is false**\n",
      "If A's first statement \"I am an Alternator\" is false, this contradicts our assumption that A is an Alternator.\n",
      "\n",
      "\n",
      "So, based on our analysis in Case 2:\n",
      "- A is a Liar.\n",
      "- B is an Alternator.\n",
      "- C is an Alternator. \n"
     ]
    }
   ],
   "source": [
    "# Ask it again\n",
    "\n",
    "response = openai.chat.completions.create(\n",
    "    model=\"doubao-1-5-pro-32k-250115\",\n",
    "    messages=messages\n",
    ")\n",
    "\n",
    "answer = response.choices[0].message.content\n",
    "print(answer)\n"
   ]
  },
  {
   "cell_type": "code",
   "execution_count": 12,
   "metadata": {},
   "outputs": [
    {
     "data": {
      "text/markdown": [
       "Let's analyze the statements of each being one by one and consider different cases based on their possible types.\n",
       "\n",
       "### Case 1: Assume A is a Truth - teller\n",
       "If A is a Truth - teller, then A's statements must all be true. A says \"I am an Alternator, B is a Liar\". But a Truth - teller cannot say \"I am an Alternator\" because that would be a false statement. So, A is not a Truth - teller.\n",
       "\n",
       "### Case 2: Assume A is a Liar\n",
       "If A is a Liar, then the opposite of A's statements are true. A says \"I am an Alternator, B is a Liar\", so the truth is that A is not an Alternator (which is consistent with A being a Liar) and B is not a Liar.\n",
       "\n",
       "Now, let's look at B's statement. B says \"A is a Truth - teller, C is an Alternator\". Since we know A is a Liar, B's first statement is false. Since B is not a Liar, B must be an Alternator. So, B's statements alternate. Since the first statement is false, the second statement \"C is an Alternator\" must be true.\n",
       "\n",
       "Let's check C's statements. C says \"I am a Liar, A is not a Truth - teller\". Since C is an Alternator, if we assume the first statement \"I am a Liar\" is false (because an Alternator can't be a Liar), then the second statement \"A is not a Truth - teller\" must be true, which is consistent with our assumption that A is a Liar.\n",
       "\n",
       "### Case 3: Assume A is an Alternator\n",
       "If A is an Alternator, we need to consider two sub - cases for the order of truth and lies.\n",
       "- **Sub - case 1: A's first statement is true**\n",
       "If A's first statement \"I am an Alternator\" is true, then the second statement \"B is a Liar\" must be false, so B is not a Liar.\n",
       "    - If B is a Truth - teller, B says \"A is a Truth - teller, C is an Alternator\". But A is an Alternator, so B's first statement is false, which contradicts B being a Truth - teller.\n",
       "    - If B is an Alternator, we need to further analyze the consistency of subsequent statements, but it will lead to more complex contradictions.\n",
       "- **Sub - case 2: A's first statement is false**\n",
       "If A's first statement \"I am an Alternator\" is false, this contradicts our assumption that A is an Alternator.\n",
       "\n",
       "\n",
       "So, based on our analysis in Case 2:\n",
       "- A is a Liar.\n",
       "- B is an Alternator.\n",
       "- C is an Alternator. "
      ],
      "text/plain": [
       "<IPython.core.display.Markdown object>"
      ]
     },
     "metadata": {},
     "output_type": "display_data"
    }
   ],
   "source": [
    "from IPython.display import Markdown, display\n",
    "\n",
    "display(Markdown(answer))\n",
    "\n"
   ]
  },
  {
   "cell_type": "markdown",
   "metadata": {},
   "source": [
    "# Congratulations!\n",
    "\n",
    "That was a small, simple step in the direction of Agentic AI, with your new environment!\n",
    "\n",
    "Next time things get more interesting..."
   ]
  },
  {
   "cell_type": "markdown",
   "metadata": {},
   "source": [
    "<table style=\"margin: 0; text-align: left; width:100%\">\n",
    "    <tr>\n",
    "        <td style=\"width: 150px; height: 150px; vertical-align: middle;\">\n",
    "            <img src=\"../assets/exercise.png\" width=\"150\" height=\"150\" style=\"display: block;\" />\n",
    "        </td>\n",
    "        <td>\n",
    "            <h2 style=\"color:#ff7800;\">Exercise</h2>\n",
    "            <span style=\"color:#ff7800;\">Now try this commercial application:<br/>\n",
    "            First ask the LLM to pick a business area that might be worth exploring for an Agentic AI opportunity.<br/>\n",
    "            Then ask the LLM to present a pain-point in that industry - something challenging that might be ripe for an Agentic solution.<br/>\n",
    "            Finally have 3 third LLM call propose the Agentic AI solution.\n",
    "            </span>\n",
    "        </td>\n",
    "    </tr>\n",
    "</table>"
   ]
  },
  {
   "cell_type": "code",
   "execution_count": 14,
   "metadata": {},
   "outputs": [
    {
     "ename": "SyntaxError",
     "evalue": "invalid syntax (1119803040.py, line 7)",
     "output_type": "error",
     "traceback": [
      "  \u001b[36mCell\u001b[39m\u001b[36m \u001b[39m\u001b[32mIn[14]\u001b[39m\u001b[32m, line 7\u001b[39m\n\u001b[31m    \u001b[39m\u001b[31mresponse =\u001b[39m\n              ^\n\u001b[31mSyntaxError\u001b[39m\u001b[31m:\u001b[39m invalid syntax\n"
     ]
    }
   ],
   "source": [
    "# First create the messages:\n",
    "\n",
    "messages = [{\"role\": \"user\", \"content\": \"Something here\"}]\n",
    "\n",
    "# Then make the first call:\n",
    "\n",
    "response =\n",
    "\n",
    "# Then read the business idea:\n",
    "\n",
    "business_idea = response.\n",
    "\n",
    "# And repeat!"
   ]
  },
  {
   "cell_type": "markdown",
   "metadata": {},
   "source": []
  }
 ],
 "metadata": {
  "kernelspec": {
   "display_name": "agents",
   "language": "python",
   "name": "python3"
  },
  "language_info": {
   "codemirror_mode": {
    "name": "ipython",
    "version": 3
   },
   "file_extension": ".py",
   "mimetype": "text/x-python",
   "name": "python",
   "nbconvert_exporter": "python",
   "pygments_lexer": "ipython3",
   "version": "3.12.10"
  }
 },
 "nbformat": 4,
 "nbformat_minor": 2
}
