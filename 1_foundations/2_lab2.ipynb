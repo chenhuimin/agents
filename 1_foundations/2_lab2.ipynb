{
 "cells": [
  {
   "cell_type": "markdown",
   "metadata": {},
   "source": [
    "## Welcome to the Second Lab - Week 1, Day 3\n",
    "\n",
    "Today we will work with lots of models! This is a way to get comfortable with APIs."
   ]
  },
  {
   "cell_type": "markdown",
   "metadata": {},
   "source": [
    "<table style=\"margin: 0; text-align: left; width:100%\">\n",
    "    <tr>\n",
    "        <td style=\"width: 150px; height: 150px; vertical-align: middle;\">\n",
    "            <img src=\"../assets/stop.png\" width=\"150\" height=\"150\" style=\"display: block;\" />\n",
    "        </td>\n",
    "        <td>\n",
    "            <h2 style=\"color:#ff7800;\">Important point - please read</h2>\n",
    "            <span style=\"color:#ff7800;\">The way I collaborate with you may be different to other courses you've taken. I prefer not to type code while you watch. Rather, I execute Jupyter Labs, like this, and give you an intuition for what's going on. My suggestion is that you carefully execute this yourself, <b>after</b> watching the lecture. Add print statements to understand what's going on, and then come up with your own variations.<br/><br/>If you have time, I'd love it if you submit a PR for changes in the community_contributions folder - instructions in the resources. Also, if you have a Github account, use this to showcase your variations. Not only is this essential practice, but it demonstrates your skills to others, including perhaps future clients or employers...\n",
    "            </span>\n",
    "        </td>\n",
    "    </tr>\n",
    "</table>"
   ]
  },
  {
   "cell_type": "code",
   "execution_count": 1,
   "metadata": {},
   "outputs": [],
   "source": [
    "# Start with imports - ask ChatGPT to explain any package that you don't know\n",
    "\n",
    "import os\n",
    "import json\n",
    "from dotenv import load_dotenv\n",
    "from openai import OpenAI\n",
    "from anthropic import Anthropic\n",
    "from IPython.display import Markdown, display"
   ]
  },
  {
   "cell_type": "code",
   "execution_count": 2,
   "metadata": {},
   "outputs": [
    {
     "data": {
      "text/plain": [
       "True"
      ]
     },
     "execution_count": 2,
     "metadata": {},
     "output_type": "execute_result"
    }
   ],
   "source": [
    "# Always remember to do this!\n",
    "load_dotenv(override=True)"
   ]
  },
  {
   "cell_type": "code",
   "execution_count": 3,
   "metadata": {},
   "outputs": [
    {
     "name": "stdout",
     "output_type": "stream",
     "text": [
      "OpenAI API Key exists and begins sk-proj-\n",
      "Anthropic API Key not set (and this is optional)\n",
      "Google API Key not set (and this is optional)\n",
      "DeepSeek API Key exists and begins sk-\n",
      "Groq API Key not set (and this is optional)\n"
     ]
    }
   ],
   "source": [
    "# Print the key prefixes to help with any debugging\n",
    "\n",
    "openai_api_key = os.getenv('OPENAI_API_KEY')\n",
    "anthropic_api_key = os.getenv('ANTHROPIC_API_KEY')\n",
    "google_api_key = os.getenv('GOOGLE_API_KEY')\n",
    "deepseek_api_key = os.getenv('DEEPSEEK_API_KEY')\n",
    "groq_api_key = os.getenv('GROQ_API_KEY')\n",
    "\n",
    "if openai_api_key:\n",
    "    print(f\"OpenAI API Key exists and begins {openai_api_key[:8]}\")\n",
    "else:\n",
    "    print(\"OpenAI API Key not set\")\n",
    "    \n",
    "if anthropic_api_key:\n",
    "    print(f\"Anthropic API Key exists and begins {anthropic_api_key[:7]}\")\n",
    "else:\n",
    "    print(\"Anthropic API Key not set (and this is optional)\")\n",
    "\n",
    "if google_api_key:\n",
    "    print(f\"Google API Key exists and begins {google_api_key[:2]}\")\n",
    "else:\n",
    "    print(\"Google API Key not set (and this is optional)\")\n",
    "\n",
    "if deepseek_api_key:\n",
    "    print(f\"DeepSeek API Key exists and begins {deepseek_api_key[:3]}\")\n",
    "else:\n",
    "    print(\"DeepSeek API Key not set (and this is optional)\")\n",
    "\n",
    "if groq_api_key:\n",
    "    print(f\"Groq API Key exists and begins {groq_api_key[:4]}\")\n",
    "else:\n",
    "    print(\"Groq API Key not set (and this is optional)\")"
   ]
  },
  {
   "cell_type": "code",
   "execution_count": 4,
   "metadata": {},
   "outputs": [],
   "source": [
    "request = \"Please come up with a challenging, nuanced question that I can ask a number of LLMs to evaluate their intelligence. \"\n",
    "request += \"Answer only with the question, no explanation.\"\n",
    "messages = [{\"role\": \"user\", \"content\": request}]"
   ]
  },
  {
   "cell_type": "code",
   "execution_count": 5,
   "metadata": {},
   "outputs": [
    {
     "data": {
      "text/plain": [
       "[{'role': 'user',\n",
       "  'content': 'Please come up with a challenging, nuanced question that I can ask a number of LLMs to evaluate their intelligence. Answer only with the question, no explanation.'}]"
      ]
     },
     "execution_count": 5,
     "metadata": {},
     "output_type": "execute_result"
    }
   ],
   "source": [
    "messages"
   ]
  },
  {
   "cell_type": "code",
   "execution_count": 6,
   "metadata": {},
   "outputs": [
    {
     "name": "stdout",
     "output_type": "stream",
     "text": [
      "If you could redesign one aspect of human society to better reflect the values of empathy and cooperation, what specific change would you propose, and how would you address potential resistance or unintended consequences of this change?\n"
     ]
    }
   ],
   "source": [
    "openai = OpenAI()\n",
    "response = openai.chat.completions.create(\n",
    "    model=\"gpt-4o-mini\",\n",
    "    messages=messages,\n",
    ")\n",
    "question = response.choices[0].message.content\n",
    "print(question)\n"
   ]
  },
  {
   "cell_type": "code",
   "execution_count": 7,
   "metadata": {},
   "outputs": [],
   "source": [
    "competitors = []\n",
    "answers = []\n",
    "messages = [{\"role\": \"user\", \"content\": question}]"
   ]
  },
  {
   "cell_type": "code",
   "execution_count": 8,
   "metadata": {},
   "outputs": [
    {
     "data": {
      "text/markdown": [
       "One significant change I would propose is the implementation of a universal community service program integrated into education and professional development. This program would mandate participation in community service activities from an early age, fostering a culture of empathy, cooperation, and civic responsibility.\n",
       "\n",
       "### Specifics of the Change:\n",
       "1. **Education Integration**: From elementary school through university, students would engage in mandatory community service projects that align with their interests or career paths. This could include tutoring disadvantaged children, environmental clean-up efforts, or working with local non-profits.\n",
       "  \n",
       "2. **Corporate Responsibility**: Companies would also be required to incorporate community service into their employee development programs, with incentives for those who commit time and resources to local initiatives.\n",
       "\n",
       "3. **Civic Duty as a Norm**: The service would not only focus on hardship but also on community-building activities, promoting volunteerism as a normal part of life rather than an exceptional one.\n",
       "\n",
       "### Addressing Resistance:\n",
       "1. **Value Communication**: One of the primary sources of resistance would be the perception that mandatory service infringes on personal freedom. To address this, a strong communication campaign would be launched to highlight the long-term societal benefits of cooperation and empathy, using data and personal stories to illustrate the positive impacts on communities and individual well-being.\n",
       "\n",
       "2. **Flexibility and Choice**: Offering choices in types of service, locations, and schedules would empower individuals to engage in ways that resonate with them, mitigating feelings of compulsion. Highlighting the personal growth and developmental benefits (soft skills, networking, real-world experience) would also be attractive to students and professionals.\n",
       "\n",
       "3. **Pilot Programs**: Starting with pilot programs in select communities could serve as a way to measure effectiveness and adjust the program based on feedback, showcasing successes and gradual implementation rather than a sudden nationwide mandate.\n",
       "\n",
       "### Addressing Unintended Consequences:\n",
       "1. **Burnout Concerns**: Given the potential for volunteer burnout, programs would include structured, manageable service hours, guided projects with clear outcomes, and support systems such as mentorship for those engaged in particularly demanding service roles.\n",
       "\n",
       "2. **Equitable Access**: Special attention would be needed to ensure equal access to service opportunities, particularly in low-income areas. Partnering with existing organizations and community resources to provide meaningful and accessible projects would be essential in maintaining equity.\n",
       "\n",
       "3. **Long-Term Engagement**: Monitoring the program to gather feedback, measure impact, and adapt as necessary would be crucial. By creating a feedback loop involving all stakeholders, the program can evolve in response to community needs and personal experiences, ensuring its relevance and effectiveness.\n",
       "\n",
       "In summary, this proposed universal community service program aims to embed the values of empathy and cooperation into the fabric of society from an early age, creating a more connected and responsive community. By addressing potential resistance through communication, flexibility, and pilot programs, and by mitigating unintended consequences through structured frameworks and equitable access, the initiative could foster a culture of collective responsibility and support."
      ],
      "text/plain": [
       "<IPython.core.display.Markdown object>"
      ]
     },
     "metadata": {},
     "output_type": "display_data"
    }
   ],
   "source": [
    "# The API we know well\n",
    "\n",
    "model_name = \"gpt-4o-mini\"\n",
    "\n",
    "response = openai.chat.completions.create(model=model_name, messages=messages)\n",
    "answer = response.choices[0].message.content\n",
    "\n",
    "display(Markdown(answer))\n",
    "competitors.append(model_name)\n",
    "answers.append(answer)"
   ]
  },
  {
   "cell_type": "code",
   "execution_count": null,
   "metadata": {},
   "outputs": [],
   "source": [
    "# Anthropic has a slightly different API, and Max Tokens is required\n",
    "\n",
    "model_name = \"claude-3-7-sonnet-latest\"\n",
    "\n",
    "claude = Anthropic()\n",
    "response = claude.messages.create(model=model_name, messages=messages, max_tokens=1000)\n",
    "answer = response.content[0].text\n",
    "\n",
    "display(Markdown(answer))\n",
    "competitors.append(model_name)\n",
    "answers.append(answer)"
   ]
  },
  {
   "cell_type": "code",
   "execution_count": null,
   "metadata": {},
   "outputs": [],
   "source": [
    "gemini = OpenAI(api_key=google_api_key, base_url=\"https://generativelanguage.googleapis.com/v1beta/openai/\")\n",
    "model_name = \"gemini-2.0-flash\"\n",
    "\n",
    "response = gemini.chat.completions.create(model=model_name, messages=messages)\n",
    "answer = response.choices[0].message.content\n",
    "\n",
    "display(Markdown(answer))\n",
    "competitors.append(model_name)\n",
    "answers.append(answer)"
   ]
  },
  {
   "cell_type": "code",
   "execution_count": 9,
   "metadata": {},
   "outputs": [
    {
     "data": {
      "text/markdown": [
       "If I could redesign one aspect of human society to better reflect empathy and cooperation, I would propose **restructuring education systems worldwide to prioritize social-emotional learning (SEL), cooperative problem-solving, and community-based projects as core components of curricula from early childhood through adulthood**.  \n",
       "\n",
       "### **Key Changes:**  \n",
       "1. **Embed SEL in All Subjects**  \n",
       "   - Teach empathy, active listening, conflict resolution, and emotional regulation alongside traditional academics.  \n",
       "   - Use role-playing, group discussions, and real-world scenarios to practice cooperation.  \n",
       "\n",
       "2. **Shift from Competitive to Collaborative Assessment**  \n",
       "   - Reduce emphasis on standardized testing and individual rankings.  \n",
       "   - Introduce group projects, peer evaluations, and community service as major grading criteria.  \n",
       "\n",
       "3. **Community-Integrated Learning**  \n",
       "   - Partner students with local organizations to solve real problems (e.g., environmental restoration, elder care, food insecurity).  \n",
       "   - Foster intergenerational and cross-cultural collaboration.  \n",
       "\n",
       "4. **Teacher Training & Institutional Support**  \n",
       "   - Train educators in facilitating cooperative learning and emotional intelligence.  \n",
       "   - Fund schools to ensure equitable access to these programs.  \n",
       "\n",
       "### **Addressing Resistance & Unintended Consequences:**  \n",
       "- **Resistance from Competitive Systems:** Some parents, policymakers, or institutions may argue that reducing competition harms \"excellence.\"  \n",
       "  - *Solution:* Highlight research showing that cooperative learning improves academic performance, creativity, and mental health. Pilot programs in willing districts to demonstrate success.  \n",
       "\n",
       "- **Cultural Differences in Values:** Some societies prioritize individualism or hierarchical structures.  \n",
       "  - *Solution:* Adapt SEL frameworks to respect local values while still fostering prosocial behaviors (e.g., framing cooperation as family/community loyalty).  \n",
       "\n",
       "- **Potential for Superficial Implementation:** Schools might treat SEL as an add-on rather than a fundamental shift.  \n",
       "  - *Solution:* Mandate SEL integration into teacher certification and national education standards.  \n",
       "\n",
       "- **Economic Transition Challenges:** A less competitive workforce might initially face friction in capitalist systems.  \n",
       "  - *Solution:* Pair education reform with workplace changes (e.g., cooperative business models, reduced income inequality).  \n",
       "\n",
       "### **Long-Term Vision:**  \n",
       "A society where cooperation is as instinctive as competition is today—where people are trained from childhood to see collective well-being as inseparable from personal success. The ripple effects could reduce polarization, improve mental health, and make systemic collaboration (e.g., climate action, poverty reduction) more achievable.  \n",
       "\n",
       "Would you refine this approach in any way?"
      ],
      "text/plain": [
       "<IPython.core.display.Markdown object>"
      ]
     },
     "metadata": {},
     "output_type": "display_data"
    }
   ],
   "source": [
    "deepseek = OpenAI(api_key=deepseek_api_key, base_url=\"https://api.deepseek.com/v1\")\n",
    "model_name = \"deepseek-chat\"\n",
    "\n",
    "response = deepseek.chat.completions.create(model=model_name, messages=messages)\n",
    "answer = response.choices[0].message.content\n",
    "\n",
    "display(Markdown(answer))\n",
    "competitors.append(model_name)\n",
    "answers.append(answer)"
   ]
  },
  {
   "cell_type": "code",
   "execution_count": null,
   "metadata": {},
   "outputs": [],
   "source": [
    "groq = OpenAI(api_key=groq_api_key, base_url=\"https://api.groq.com/openai/v1\")\n",
    "model_name = \"llama-3.3-70b-versatile\"\n",
    "\n",
    "response = groq.chat.completions.create(model=model_name, messages=messages)\n",
    "answer = response.choices[0].message.content\n",
    "\n",
    "display(Markdown(answer))\n",
    "competitors.append(model_name)\n",
    "answers.append(answer)\n"
   ]
  },
  {
   "cell_type": "markdown",
   "metadata": {},
   "source": [
    "## For the next cell, we will use Ollama\n",
    "\n",
    "Ollama runs a local web service that gives an OpenAI compatible endpoint,  \n",
    "and runs models locally using high performance C++ code.\n",
    "\n",
    "If you don't have Ollama, install it here by visiting https://ollama.com then pressing Download and following the instructions.\n",
    "\n",
    "After it's installed, you should be able to visit here: http://localhost:11434 and see the message \"Ollama is running\"\n",
    "\n",
    "You might need to restart Cursor (and maybe reboot). Then open a Terminal (control+\\`) and run `ollama serve`\n",
    "\n",
    "Useful Ollama commands (run these in the terminal, or with an exclamation mark in this notebook):\n",
    "\n",
    "`ollama pull <model_name>` downloads a model locally  \n",
    "`ollama ls` lists all the models you've downloaded  \n",
    "`ollama rm <model_name>` deletes the specified model from your downloads"
   ]
  },
  {
   "cell_type": "markdown",
   "metadata": {},
   "source": [
    "<table style=\"margin: 0; text-align: left; width:100%\">\n",
    "    <tr>\n",
    "        <td style=\"width: 150px; height: 150px; vertical-align: middle;\">\n",
    "            <img src=\"../assets/stop.png\" width=\"150\" height=\"150\" style=\"display: block;\" />\n",
    "        </td>\n",
    "        <td>\n",
    "            <h2 style=\"color:#ff7800;\">Super important - ignore me at your peril!</h2>\n",
    "            <span style=\"color:#ff7800;\">The model called <b>llama3.3</b> is FAR too large for home computers - it's not intended for personal computing and will consume all your resources! Stick with the nicely sized <b>llama3.2</b> or <b>llama3.2:1b</b> and if you want larger, try llama3.1 or smaller variants of Qwen, Gemma, Phi or DeepSeek. See the <A href=\"https://ollama.com/models\">the Ollama models page</a> for a full list of models and sizes.\n",
    "            </span>\n",
    "        </td>\n",
    "    </tr>\n",
    "</table>"
   ]
  },
  {
   "cell_type": "code",
   "execution_count": null,
   "metadata": {},
   "outputs": [],
   "source": [
    "!ollama pull llama3.2"
   ]
  },
  {
   "cell_type": "code",
   "execution_count": null,
   "metadata": {},
   "outputs": [],
   "source": [
    "ollama = OpenAI(base_url='http://localhost:11434/v1', api_key='ollama')\n",
    "model_name = \"llama3.2\"\n",
    "\n",
    "response = ollama.chat.completions.create(model=model_name, messages=messages)\n",
    "answer = response.choices[0].message.content\n",
    "\n",
    "display(Markdown(answer))\n",
    "competitors.append(model_name)\n",
    "answers.append(answer)"
   ]
  },
  {
   "cell_type": "code",
   "execution_count": 10,
   "metadata": {},
   "outputs": [
    {
     "name": "stdout",
     "output_type": "stream",
     "text": [
      "['gpt-4o-mini', 'deepseek-chat']\n",
      "['One significant change I would propose is the implementation of a universal community service program integrated into education and professional development. This program would mandate participation in community service activities from an early age, fostering a culture of empathy, cooperation, and civic responsibility.\\n\\n### Specifics of the Change:\\n1. **Education Integration**: From elementary school through university, students would engage in mandatory community service projects that align with their interests or career paths. This could include tutoring disadvantaged children, environmental clean-up efforts, or working with local non-profits.\\n  \\n2. **Corporate Responsibility**: Companies would also be required to incorporate community service into their employee development programs, with incentives for those who commit time and resources to local initiatives.\\n\\n3. **Civic Duty as a Norm**: The service would not only focus on hardship but also on community-building activities, promoting volunteerism as a normal part of life rather than an exceptional one.\\n\\n### Addressing Resistance:\\n1. **Value Communication**: One of the primary sources of resistance would be the perception that mandatory service infringes on personal freedom. To address this, a strong communication campaign would be launched to highlight the long-term societal benefits of cooperation and empathy, using data and personal stories to illustrate the positive impacts on communities and individual well-being.\\n\\n2. **Flexibility and Choice**: Offering choices in types of service, locations, and schedules would empower individuals to engage in ways that resonate with them, mitigating feelings of compulsion. Highlighting the personal growth and developmental benefits (soft skills, networking, real-world experience) would also be attractive to students and professionals.\\n\\n3. **Pilot Programs**: Starting with pilot programs in select communities could serve as a way to measure effectiveness and adjust the program based on feedback, showcasing successes and gradual implementation rather than a sudden nationwide mandate.\\n\\n### Addressing Unintended Consequences:\\n1. **Burnout Concerns**: Given the potential for volunteer burnout, programs would include structured, manageable service hours, guided projects with clear outcomes, and support systems such as mentorship for those engaged in particularly demanding service roles.\\n\\n2. **Equitable Access**: Special attention would be needed to ensure equal access to service opportunities, particularly in low-income areas. Partnering with existing organizations and community resources to provide meaningful and accessible projects would be essential in maintaining equity.\\n\\n3. **Long-Term Engagement**: Monitoring the program to gather feedback, measure impact, and adapt as necessary would be crucial. By creating a feedback loop involving all stakeholders, the program can evolve in response to community needs and personal experiences, ensuring its relevance and effectiveness.\\n\\nIn summary, this proposed universal community service program aims to embed the values of empathy and cooperation into the fabric of society from an early age, creating a more connected and responsive community. By addressing potential resistance through communication, flexibility, and pilot programs, and by mitigating unintended consequences through structured frameworks and equitable access, the initiative could foster a culture of collective responsibility and support.', 'If I could redesign one aspect of human society to better reflect empathy and cooperation, I would propose **restructuring education systems worldwide to prioritize social-emotional learning (SEL), cooperative problem-solving, and community-based projects as core components of curricula from early childhood through adulthood**.  \\n\\n### **Key Changes:**  \\n1. **Embed SEL in All Subjects**  \\n   - Teach empathy, active listening, conflict resolution, and emotional regulation alongside traditional academics.  \\n   - Use role-playing, group discussions, and real-world scenarios to practice cooperation.  \\n\\n2. **Shift from Competitive to Collaborative Assessment**  \\n   - Reduce emphasis on standardized testing and individual rankings.  \\n   - Introduce group projects, peer evaluations, and community service as major grading criteria.  \\n\\n3. **Community-Integrated Learning**  \\n   - Partner students with local organizations to solve real problems (e.g., environmental restoration, elder care, food insecurity).  \\n   - Foster intergenerational and cross-cultural collaboration.  \\n\\n4. **Teacher Training & Institutional Support**  \\n   - Train educators in facilitating cooperative learning and emotional intelligence.  \\n   - Fund schools to ensure equitable access to these programs.  \\n\\n### **Addressing Resistance & Unintended Consequences:**  \\n- **Resistance from Competitive Systems:** Some parents, policymakers, or institutions may argue that reducing competition harms \"excellence.\"  \\n  - *Solution:* Highlight research showing that cooperative learning improves academic performance, creativity, and mental health. Pilot programs in willing districts to demonstrate success.  \\n\\n- **Cultural Differences in Values:** Some societies prioritize individualism or hierarchical structures.  \\n  - *Solution:* Adapt SEL frameworks to respect local values while still fostering prosocial behaviors (e.g., framing cooperation as family/community loyalty).  \\n\\n- **Potential for Superficial Implementation:** Schools might treat SEL as an add-on rather than a fundamental shift.  \\n  - *Solution:* Mandate SEL integration into teacher certification and national education standards.  \\n\\n- **Economic Transition Challenges:** A less competitive workforce might initially face friction in capitalist systems.  \\n  - *Solution:* Pair education reform with workplace changes (e.g., cooperative business models, reduced income inequality).  \\n\\n### **Long-Term Vision:**  \\nA society where cooperation is as instinctive as competition is today—where people are trained from childhood to see collective well-being as inseparable from personal success. The ripple effects could reduce polarization, improve mental health, and make systemic collaboration (e.g., climate action, poverty reduction) more achievable.  \\n\\nWould you refine this approach in any way?']\n"
     ]
    }
   ],
   "source": [
    "# So where are we?\n",
    "\n",
    "print(competitors)\n",
    "print(answers)\n"
   ]
  },
  {
   "cell_type": "code",
   "execution_count": 11,
   "metadata": {},
   "outputs": [
    {
     "name": "stdout",
     "output_type": "stream",
     "text": [
      "Competitor: gpt-4o-mini\n",
      "\n",
      "One significant change I would propose is the implementation of a universal community service program integrated into education and professional development. This program would mandate participation in community service activities from an early age, fostering a culture of empathy, cooperation, and civic responsibility.\n",
      "\n",
      "### Specifics of the Change:\n",
      "1. **Education Integration**: From elementary school through university, students would engage in mandatory community service projects that align with their interests or career paths. This could include tutoring disadvantaged children, environmental clean-up efforts, or working with local non-profits.\n",
      "  \n",
      "2. **Corporate Responsibility**: Companies would also be required to incorporate community service into their employee development programs, with incentives for those who commit time and resources to local initiatives.\n",
      "\n",
      "3. **Civic Duty as a Norm**: The service would not only focus on hardship but also on community-building activities, promoting volunteerism as a normal part of life rather than an exceptional one.\n",
      "\n",
      "### Addressing Resistance:\n",
      "1. **Value Communication**: One of the primary sources of resistance would be the perception that mandatory service infringes on personal freedom. To address this, a strong communication campaign would be launched to highlight the long-term societal benefits of cooperation and empathy, using data and personal stories to illustrate the positive impacts on communities and individual well-being.\n",
      "\n",
      "2. **Flexibility and Choice**: Offering choices in types of service, locations, and schedules would empower individuals to engage in ways that resonate with them, mitigating feelings of compulsion. Highlighting the personal growth and developmental benefits (soft skills, networking, real-world experience) would also be attractive to students and professionals.\n",
      "\n",
      "3. **Pilot Programs**: Starting with pilot programs in select communities could serve as a way to measure effectiveness and adjust the program based on feedback, showcasing successes and gradual implementation rather than a sudden nationwide mandate.\n",
      "\n",
      "### Addressing Unintended Consequences:\n",
      "1. **Burnout Concerns**: Given the potential for volunteer burnout, programs would include structured, manageable service hours, guided projects with clear outcomes, and support systems such as mentorship for those engaged in particularly demanding service roles.\n",
      "\n",
      "2. **Equitable Access**: Special attention would be needed to ensure equal access to service opportunities, particularly in low-income areas. Partnering with existing organizations and community resources to provide meaningful and accessible projects would be essential in maintaining equity.\n",
      "\n",
      "3. **Long-Term Engagement**: Monitoring the program to gather feedback, measure impact, and adapt as necessary would be crucial. By creating a feedback loop involving all stakeholders, the program can evolve in response to community needs and personal experiences, ensuring its relevance and effectiveness.\n",
      "\n",
      "In summary, this proposed universal community service program aims to embed the values of empathy and cooperation into the fabric of society from an early age, creating a more connected and responsive community. By addressing potential resistance through communication, flexibility, and pilot programs, and by mitigating unintended consequences through structured frameworks and equitable access, the initiative could foster a culture of collective responsibility and support.\n",
      "Competitor: deepseek-chat\n",
      "\n",
      "If I could redesign one aspect of human society to better reflect empathy and cooperation, I would propose **restructuring education systems worldwide to prioritize social-emotional learning (SEL), cooperative problem-solving, and community-based projects as core components of curricula from early childhood through adulthood**.  \n",
      "\n",
      "### **Key Changes:**  \n",
      "1. **Embed SEL in All Subjects**  \n",
      "   - Teach empathy, active listening, conflict resolution, and emotional regulation alongside traditional academics.  \n",
      "   - Use role-playing, group discussions, and real-world scenarios to practice cooperation.  \n",
      "\n",
      "2. **Shift from Competitive to Collaborative Assessment**  \n",
      "   - Reduce emphasis on standardized testing and individual rankings.  \n",
      "   - Introduce group projects, peer evaluations, and community service as major grading criteria.  \n",
      "\n",
      "3. **Community-Integrated Learning**  \n",
      "   - Partner students with local organizations to solve real problems (e.g., environmental restoration, elder care, food insecurity).  \n",
      "   - Foster intergenerational and cross-cultural collaboration.  \n",
      "\n",
      "4. **Teacher Training & Institutional Support**  \n",
      "   - Train educators in facilitating cooperative learning and emotional intelligence.  \n",
      "   - Fund schools to ensure equitable access to these programs.  \n",
      "\n",
      "### **Addressing Resistance & Unintended Consequences:**  \n",
      "- **Resistance from Competitive Systems:** Some parents, policymakers, or institutions may argue that reducing competition harms \"excellence.\"  \n",
      "  - *Solution:* Highlight research showing that cooperative learning improves academic performance, creativity, and mental health. Pilot programs in willing districts to demonstrate success.  \n",
      "\n",
      "- **Cultural Differences in Values:** Some societies prioritize individualism or hierarchical structures.  \n",
      "  - *Solution:* Adapt SEL frameworks to respect local values while still fostering prosocial behaviors (e.g., framing cooperation as family/community loyalty).  \n",
      "\n",
      "- **Potential for Superficial Implementation:** Schools might treat SEL as an add-on rather than a fundamental shift.  \n",
      "  - *Solution:* Mandate SEL integration into teacher certification and national education standards.  \n",
      "\n",
      "- **Economic Transition Challenges:** A less competitive workforce might initially face friction in capitalist systems.  \n",
      "  - *Solution:* Pair education reform with workplace changes (e.g., cooperative business models, reduced income inequality).  \n",
      "\n",
      "### **Long-Term Vision:**  \n",
      "A society where cooperation is as instinctive as competition is today—where people are trained from childhood to see collective well-being as inseparable from personal success. The ripple effects could reduce polarization, improve mental health, and make systemic collaboration (e.g., climate action, poverty reduction) more achievable.  \n",
      "\n",
      "Would you refine this approach in any way?\n"
     ]
    }
   ],
   "source": [
    "# It's nice to know how to use \"zip\"\n",
    "for competitor, answer in zip(competitors, answers):\n",
    "    print(f\"Competitor: {competitor}\\n\\n{answer}\")\n"
   ]
  },
  {
   "cell_type": "code",
   "execution_count": 13,
   "metadata": {},
   "outputs": [],
   "source": [
    "# Let's bring this together - note the use of \"enumerate\"\n",
    "\n",
    "together = \"\"\n",
    "for index, answer in enumerate(answers):\n",
    "    together += f\"# Response from competitor {index+1}\\n\\n\"\n",
    "    together += answer + \"\\n\\n\""
   ]
  },
  {
   "cell_type": "code",
   "execution_count": 14,
   "metadata": {},
   "outputs": [
    {
     "name": "stdout",
     "output_type": "stream",
     "text": [
      "# Response from competitor 1\n",
      "\n",
      "One significant change I would propose is the implementation of a universal community service program integrated into education and professional development. This program would mandate participation in community service activities from an early age, fostering a culture of empathy, cooperation, and civic responsibility.\n",
      "\n",
      "### Specifics of the Change:\n",
      "1. **Education Integration**: From elementary school through university, students would engage in mandatory community service projects that align with their interests or career paths. This could include tutoring disadvantaged children, environmental clean-up efforts, or working with local non-profits.\n",
      "  \n",
      "2. **Corporate Responsibility**: Companies would also be required to incorporate community service into their employee development programs, with incentives for those who commit time and resources to local initiatives.\n",
      "\n",
      "3. **Civic Duty as a Norm**: The service would not only focus on hardship but also on community-building activities, promoting volunteerism as a normal part of life rather than an exceptional one.\n",
      "\n",
      "### Addressing Resistance:\n",
      "1. **Value Communication**: One of the primary sources of resistance would be the perception that mandatory service infringes on personal freedom. To address this, a strong communication campaign would be launched to highlight the long-term societal benefits of cooperation and empathy, using data and personal stories to illustrate the positive impacts on communities and individual well-being.\n",
      "\n",
      "2. **Flexibility and Choice**: Offering choices in types of service, locations, and schedules would empower individuals to engage in ways that resonate with them, mitigating feelings of compulsion. Highlighting the personal growth and developmental benefits (soft skills, networking, real-world experience) would also be attractive to students and professionals.\n",
      "\n",
      "3. **Pilot Programs**: Starting with pilot programs in select communities could serve as a way to measure effectiveness and adjust the program based on feedback, showcasing successes and gradual implementation rather than a sudden nationwide mandate.\n",
      "\n",
      "### Addressing Unintended Consequences:\n",
      "1. **Burnout Concerns**: Given the potential for volunteer burnout, programs would include structured, manageable service hours, guided projects with clear outcomes, and support systems such as mentorship for those engaged in particularly demanding service roles.\n",
      "\n",
      "2. **Equitable Access**: Special attention would be needed to ensure equal access to service opportunities, particularly in low-income areas. Partnering with existing organizations and community resources to provide meaningful and accessible projects would be essential in maintaining equity.\n",
      "\n",
      "3. **Long-Term Engagement**: Monitoring the program to gather feedback, measure impact, and adapt as necessary would be crucial. By creating a feedback loop involving all stakeholders, the program can evolve in response to community needs and personal experiences, ensuring its relevance and effectiveness.\n",
      "\n",
      "In summary, this proposed universal community service program aims to embed the values of empathy and cooperation into the fabric of society from an early age, creating a more connected and responsive community. By addressing potential resistance through communication, flexibility, and pilot programs, and by mitigating unintended consequences through structured frameworks and equitable access, the initiative could foster a culture of collective responsibility and support.\n",
      "\n",
      "# Response from competitor 2\n",
      "\n",
      "If I could redesign one aspect of human society to better reflect empathy and cooperation, I would propose **restructuring education systems worldwide to prioritize social-emotional learning (SEL), cooperative problem-solving, and community-based projects as core components of curricula from early childhood through adulthood**.  \n",
      "\n",
      "### **Key Changes:**  \n",
      "1. **Embed SEL in All Subjects**  \n",
      "   - Teach empathy, active listening, conflict resolution, and emotional regulation alongside traditional academics.  \n",
      "   - Use role-playing, group discussions, and real-world scenarios to practice cooperation.  \n",
      "\n",
      "2. **Shift from Competitive to Collaborative Assessment**  \n",
      "   - Reduce emphasis on standardized testing and individual rankings.  \n",
      "   - Introduce group projects, peer evaluations, and community service as major grading criteria.  \n",
      "\n",
      "3. **Community-Integrated Learning**  \n",
      "   - Partner students with local organizations to solve real problems (e.g., environmental restoration, elder care, food insecurity).  \n",
      "   - Foster intergenerational and cross-cultural collaboration.  \n",
      "\n",
      "4. **Teacher Training & Institutional Support**  \n",
      "   - Train educators in facilitating cooperative learning and emotional intelligence.  \n",
      "   - Fund schools to ensure equitable access to these programs.  \n",
      "\n",
      "### **Addressing Resistance & Unintended Consequences:**  \n",
      "- **Resistance from Competitive Systems:** Some parents, policymakers, or institutions may argue that reducing competition harms \"excellence.\"  \n",
      "  - *Solution:* Highlight research showing that cooperative learning improves academic performance, creativity, and mental health. Pilot programs in willing districts to demonstrate success.  \n",
      "\n",
      "- **Cultural Differences in Values:** Some societies prioritize individualism or hierarchical structures.  \n",
      "  - *Solution:* Adapt SEL frameworks to respect local values while still fostering prosocial behaviors (e.g., framing cooperation as family/community loyalty).  \n",
      "\n",
      "- **Potential for Superficial Implementation:** Schools might treat SEL as an add-on rather than a fundamental shift.  \n",
      "  - *Solution:* Mandate SEL integration into teacher certification and national education standards.  \n",
      "\n",
      "- **Economic Transition Challenges:** A less competitive workforce might initially face friction in capitalist systems.  \n",
      "  - *Solution:* Pair education reform with workplace changes (e.g., cooperative business models, reduced income inequality).  \n",
      "\n",
      "### **Long-Term Vision:**  \n",
      "A society where cooperation is as instinctive as competition is today—where people are trained from childhood to see collective well-being as inseparable from personal success. The ripple effects could reduce polarization, improve mental health, and make systemic collaboration (e.g., climate action, poverty reduction) more achievable.  \n",
      "\n",
      "Would you refine this approach in any way?\n",
      "\n",
      "\n"
     ]
    }
   ],
   "source": [
    "print(together)"
   ]
  },
  {
   "cell_type": "code",
   "execution_count": 16,
   "metadata": {},
   "outputs": [],
   "source": [
    "judge = f\"\"\"You are judging a competition between {len(competitors)} competitors.\n",
    "Each model has been given this question:\n",
    "\n",
    "{question}\n",
    "\n",
    "Your job is to evaluate each response for clarity and strength of argument, and rank them in order of best to worst.\n",
    "Respond with JSON, and only JSON, with the following format:\n",
    "{{\"results\": [\"best competitor number\", \"second best competitor number\", \"third best competitor number\", ...]}}\n",
    "\n",
    "Here are the responses from each competitor:\n",
    "\n",
    "{together}\n",
    "\n",
    "Now respond with the JSON with the ranked order of the competitors, nothing else. Do not include markdown formatting or code blocks.\"\"\"\n"
   ]
  },
  {
   "cell_type": "code",
   "execution_count": 17,
   "metadata": {},
   "outputs": [
    {
     "name": "stdout",
     "output_type": "stream",
     "text": [
      "You are judging a competition between 2 competitors.\n",
      "Each model has been given this question:\n",
      "\n",
      "If you could redesign one aspect of human society to better reflect the values of empathy and cooperation, what specific change would you propose, and how would you address potential resistance or unintended consequences of this change?\n",
      "\n",
      "Your job is to evaluate each response for clarity and strength of argument, and rank them in order of best to worst.\n",
      "Respond with JSON, and only JSON, with the following format:\n",
      "{\"results\": [\"best competitor number\", \"second best competitor number\", \"third best competitor number\", ...]}\n",
      "\n",
      "Here are the responses from each competitor:\n",
      "\n",
      "# Response from competitor 1\n",
      "\n",
      "One significant change I would propose is the implementation of a universal community service program integrated into education and professional development. This program would mandate participation in community service activities from an early age, fostering a culture of empathy, cooperation, and civic responsibility.\n",
      "\n",
      "### Specifics of the Change:\n",
      "1. **Education Integration**: From elementary school through university, students would engage in mandatory community service projects that align with their interests or career paths. This could include tutoring disadvantaged children, environmental clean-up efforts, or working with local non-profits.\n",
      "  \n",
      "2. **Corporate Responsibility**: Companies would also be required to incorporate community service into their employee development programs, with incentives for those who commit time and resources to local initiatives.\n",
      "\n",
      "3. **Civic Duty as a Norm**: The service would not only focus on hardship but also on community-building activities, promoting volunteerism as a normal part of life rather than an exceptional one.\n",
      "\n",
      "### Addressing Resistance:\n",
      "1. **Value Communication**: One of the primary sources of resistance would be the perception that mandatory service infringes on personal freedom. To address this, a strong communication campaign would be launched to highlight the long-term societal benefits of cooperation and empathy, using data and personal stories to illustrate the positive impacts on communities and individual well-being.\n",
      "\n",
      "2. **Flexibility and Choice**: Offering choices in types of service, locations, and schedules would empower individuals to engage in ways that resonate with them, mitigating feelings of compulsion. Highlighting the personal growth and developmental benefits (soft skills, networking, real-world experience) would also be attractive to students and professionals.\n",
      "\n",
      "3. **Pilot Programs**: Starting with pilot programs in select communities could serve as a way to measure effectiveness and adjust the program based on feedback, showcasing successes and gradual implementation rather than a sudden nationwide mandate.\n",
      "\n",
      "### Addressing Unintended Consequences:\n",
      "1. **Burnout Concerns**: Given the potential for volunteer burnout, programs would include structured, manageable service hours, guided projects with clear outcomes, and support systems such as mentorship for those engaged in particularly demanding service roles.\n",
      "\n",
      "2. **Equitable Access**: Special attention would be needed to ensure equal access to service opportunities, particularly in low-income areas. Partnering with existing organizations and community resources to provide meaningful and accessible projects would be essential in maintaining equity.\n",
      "\n",
      "3. **Long-Term Engagement**: Monitoring the program to gather feedback, measure impact, and adapt as necessary would be crucial. By creating a feedback loop involving all stakeholders, the program can evolve in response to community needs and personal experiences, ensuring its relevance and effectiveness.\n",
      "\n",
      "In summary, this proposed universal community service program aims to embed the values of empathy and cooperation into the fabric of society from an early age, creating a more connected and responsive community. By addressing potential resistance through communication, flexibility, and pilot programs, and by mitigating unintended consequences through structured frameworks and equitable access, the initiative could foster a culture of collective responsibility and support.\n",
      "\n",
      "# Response from competitor 2\n",
      "\n",
      "If I could redesign one aspect of human society to better reflect empathy and cooperation, I would propose **restructuring education systems worldwide to prioritize social-emotional learning (SEL), cooperative problem-solving, and community-based projects as core components of curricula from early childhood through adulthood**.  \n",
      "\n",
      "### **Key Changes:**  \n",
      "1. **Embed SEL in All Subjects**  \n",
      "   - Teach empathy, active listening, conflict resolution, and emotional regulation alongside traditional academics.  \n",
      "   - Use role-playing, group discussions, and real-world scenarios to practice cooperation.  \n",
      "\n",
      "2. **Shift from Competitive to Collaborative Assessment**  \n",
      "   - Reduce emphasis on standardized testing and individual rankings.  \n",
      "   - Introduce group projects, peer evaluations, and community service as major grading criteria.  \n",
      "\n",
      "3. **Community-Integrated Learning**  \n",
      "   - Partner students with local organizations to solve real problems (e.g., environmental restoration, elder care, food insecurity).  \n",
      "   - Foster intergenerational and cross-cultural collaboration.  \n",
      "\n",
      "4. **Teacher Training & Institutional Support**  \n",
      "   - Train educators in facilitating cooperative learning and emotional intelligence.  \n",
      "   - Fund schools to ensure equitable access to these programs.  \n",
      "\n",
      "### **Addressing Resistance & Unintended Consequences:**  \n",
      "- **Resistance from Competitive Systems:** Some parents, policymakers, or institutions may argue that reducing competition harms \"excellence.\"  \n",
      "  - *Solution:* Highlight research showing that cooperative learning improves academic performance, creativity, and mental health. Pilot programs in willing districts to demonstrate success.  \n",
      "\n",
      "- **Cultural Differences in Values:** Some societies prioritize individualism or hierarchical structures.  \n",
      "  - *Solution:* Adapt SEL frameworks to respect local values while still fostering prosocial behaviors (e.g., framing cooperation as family/community loyalty).  \n",
      "\n",
      "- **Potential for Superficial Implementation:** Schools might treat SEL as an add-on rather than a fundamental shift.  \n",
      "  - *Solution:* Mandate SEL integration into teacher certification and national education standards.  \n",
      "\n",
      "- **Economic Transition Challenges:** A less competitive workforce might initially face friction in capitalist systems.  \n",
      "  - *Solution:* Pair education reform with workplace changes (e.g., cooperative business models, reduced income inequality).  \n",
      "\n",
      "### **Long-Term Vision:**  \n",
      "A society where cooperation is as instinctive as competition is today—where people are trained from childhood to see collective well-being as inseparable from personal success. The ripple effects could reduce polarization, improve mental health, and make systemic collaboration (e.g., climate action, poverty reduction) more achievable.  \n",
      "\n",
      "Would you refine this approach in any way?\n",
      "\n",
      "\n",
      "\n",
      "Now respond with the JSON with the ranked order of the competitors, nothing else. Do not include markdown formatting or code blocks.\n"
     ]
    }
   ],
   "source": [
    "print(judge)"
   ]
  },
  {
   "cell_type": "code",
   "execution_count": 18,
   "metadata": {},
   "outputs": [],
   "source": [
    "judge_messages = [{\"role\": \"user\", \"content\": judge}]"
   ]
  },
  {
   "cell_type": "code",
   "execution_count": 19,
   "metadata": {},
   "outputs": [
    {
     "name": "stdout",
     "output_type": "stream",
     "text": [
      "{\"results\": [\"2\", \"1\"]}\n"
     ]
    }
   ],
   "source": [
    "# Judgement time!\n",
    "\n",
    "openai = OpenAI()\n",
    "response = openai.chat.completions.create(\n",
    "    model=\"o3-mini\",\n",
    "    messages=judge_messages,\n",
    ")\n",
    "results = response.choices[0].message.content\n",
    "print(results)\n"
   ]
  },
  {
   "cell_type": "code",
   "execution_count": 20,
   "metadata": {},
   "outputs": [
    {
     "name": "stdout",
     "output_type": "stream",
     "text": [
      "Rank 1: deepseek-chat\n",
      "Rank 2: gpt-4o-mini\n"
     ]
    }
   ],
   "source": [
    "# OK let's turn this into results!\n",
    "\n",
    "results_dict = json.loads(results)\n",
    "ranks = results_dict[\"results\"]\n",
    "for index, result in enumerate(ranks):\n",
    "    competitor = competitors[int(result)-1]\n",
    "    print(f\"Rank {index+1}: {competitor}\")"
   ]
  },
  {
   "cell_type": "markdown",
   "metadata": {},
   "source": [
    "<table style=\"margin: 0; text-align: left; width:100%\">\n",
    "    <tr>\n",
    "        <td style=\"width: 150px; height: 150px; vertical-align: middle;\">\n",
    "            <img src=\"../assets/exercise.png\" width=\"150\" height=\"150\" style=\"display: block;\" />\n",
    "        </td>\n",
    "        <td>\n",
    "            <h2 style=\"color:#ff7800;\">Exercise</h2>\n",
    "            <span style=\"color:#ff7800;\">Which pattern(s) did this use? Try updating this to add another Agentic design pattern.\n",
    "            </span>\n",
    "        </td>\n",
    "    </tr>\n",
    "</table>"
   ]
  },
  {
   "cell_type": "markdown",
   "metadata": {},
   "source": [
    "<table style=\"margin: 0; text-align: left; width:100%\">\n",
    "    <tr>\n",
    "        <td style=\"width: 150px; height: 150px; vertical-align: middle;\">\n",
    "            <img src=\"../assets/business.png\" width=\"150\" height=\"150\" style=\"display: block;\" />\n",
    "        </td>\n",
    "        <td>\n",
    "            <h2 style=\"color:#00bfff;\">Commercial implications</h2>\n",
    "            <span style=\"color:#00bfff;\">These kinds of patterns - to send a task to multiple models, and evaluate results,\n",
    "            are common where you need to improve the quality of your LLM response. This approach can be universally applied\n",
    "            to business projects where accuracy is critical.\n",
    "            </span>\n",
    "        </td>\n",
    "    </tr>\n",
    "</table>"
   ]
  }
 ],
 "metadata": {
  "kernelspec": {
   "display_name": "agents",
   "language": "python",
   "name": "python3"
  },
  "language_info": {
   "codemirror_mode": {
    "name": "ipython",
    "version": 3
   },
   "file_extension": ".py",
   "mimetype": "text/x-python",
   "name": "python",
   "nbconvert_exporter": "python",
   "pygments_lexer": "ipython3",
   "version": "3.12.10"
  }
 },
 "nbformat": 4,
 "nbformat_minor": 2
}
